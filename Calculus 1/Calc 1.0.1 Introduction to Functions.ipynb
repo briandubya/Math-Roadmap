{
 "cells": [
  {
   "cell_type": "markdown",
   "id": "60bb304a-dd2a-467d-8793-228f321b8db5",
   "metadata": {},
   "source": [
    "# Lines"
   ]
  },
  {
   "cell_type": "markdown",
   "id": "ff09f635-14f2-4fa2-8ad9-b766ae2b6a86",
   "metadata": {},
   "source": [
    "Lines are straight and have a slope. If you have two points, you can have a line between them. "
   ]
  },
  {
   "cell_type": "markdown",
   "id": "8499c47f-0134-4e80-aec5-e41950ac8c4a",
   "metadata": {},
   "source": [
    "Parallel Lines: Lines that have the same slopes <br/>\n",
    "Perpendicular Lines: Lines where the slopes are negative reciprocals of each other. "
   ]
  },
  {
   "cell_type": "code",
   "execution_count": null,
   "id": "3e313be8-ddda-4f9c-aa33-192b25d8592d",
   "metadata": {},
   "outputs": [],
   "source": [
    "conda install matplotlib"
   ]
  },
  {
   "cell_type": "code",
   "execution_count": 3,
   "id": "ffc4d2bb-550d-4213-aff8-1b54fd15b3c6",
   "metadata": {},
   "outputs": [],
   "source": [
    "#import the matplotlib.pyplot module\n",
    "import matplotlib.pyplot as plt\n",
    "import numpy as np\n",
    "import math"
   ]
  },
  {
   "cell_type": "code",
   "execution_count": 4,
   "id": "8309b0f0-4bd5-4109-a538-4196cb237b53",
   "metadata": {},
   "outputs": [],
   "source": [
    "#x and y axis valus\n",
    "x = [1,2,3]\n",
    "y = [2,4,6]"
   ]
  },
  {
   "cell_type": "code",
   "execution_count": 5,
   "id": "7de408d8-d1dd-463b-8308-8d64b36a9d94",
   "metadata": {},
   "outputs": [
    {
     "data": {
      "image/png": "[encoded data removed]",
      "text/plain": [
       "<Figure size 640x480 with 1 Axes>"
      ]
     },
     "metadata": {},
     "output_type": "display_data"
    }
   ],
   "source": [
    "#naming x and y axis\n",
    "plt.xlabel('x-axis')\n",
    "plt.ylabel('y-axis')\n",
    "\n",
    "plt.title('Line Graph')\n",
    "\n",
    "#plotting the points\n",
    "plt.plot(x,y)\n",
    "\n",
    "plt.show()"
   ]
  },
  {
   "cell_type": "markdown",
   "id": "9bb7134b-f3a1-46b7-938b-36802cfbc68d",
   "metadata": {
    "tags": []
   },
   "source": [
    "# Slopes"
   ]
  },
  {
   "cell_type": "markdown",
   "id": "c1cfca3b-25e9-4a72-b5cd-3cf3e31f7fb7",
   "metadata": {},
   "source": [
    "A slope is defined as rise over run"
   ]
  },
  {
   "cell_type": "markdown",
   "id": "f0ee4909-f91d-4b0e-9689-4f228d98e860",
   "metadata": {},
   "source": [
    "$$\n",
    "Slope = Rise/Run\n",
    "$$"
   ]
  },
  {
   "cell_type": "markdown",
   "id": "2883bbef-a6d3-4b28-9e22-d525d229b55b",
   "metadata": {},
   "source": [
    "For any 2 points (x1, y1) and (x2, y2), \n",
    "\n",
    "$$\n",
    "m = (y2 - y1)/(x2 - x1)\n",
    "$$"
   ]
  },
  {
   "cell_type": "code",
   "execution_count": 5,
   "id": "843a8246-1b37-45bc-8c5e-ede0f766bfa3",
   "metadata": {},
   "outputs": [],
   "source": [
    "risey = y[-1] - y[0]\n",
    "runx = x[-1] - x[0]"
   ]
  },
  {
   "cell_type": "code",
   "execution_count": 6,
   "id": "8cbe2c97-4293-4315-9703-609e2a96ffbb",
   "metadata": {},
   "outputs": [],
   "source": [
    "slopexy = risey/runx"
   ]
  },
  {
   "cell_type": "code",
   "execution_count": 7,
   "id": "03bb0b78-f1b3-4dda-8477-aed9c507f248",
   "metadata": {},
   "outputs": [
    {
     "data": {
      "text/plain": [
       "2.0"
      ]
     },
     "execution_count": 7,
     "metadata": {},
     "output_type": "execute_result"
    }
   ],
   "source": [
    "slopexy"
   ]
  },
  {
   "cell_type": "markdown",
   "id": "4d699a1a-e94a-4236-b83d-6af3181a3396",
   "metadata": {},
   "source": [
    "The code below uses the numpy.mean function to calculate the mean of the x and y arrays, and the numpy.cov function to calculate the covariance between x and y. The slope is calculated as the covariance between x and y divided by the variance of x. The intercept is calculated as the difference between the mean of y and the product of the mean of x and the slope. The resulting slope and intercept values represent the parameters of the line y = mx + b that best fits the data."
   ]
  },
  {
   "cell_type": "code",
   "execution_count": 8,
   "id": "a20c8374-b567-4175-a1f1-5d20d0536b48",
   "metadata": {},
   "outputs": [
    {
     "name": "stdout",
     "output_type": "stream",
     "text": [
      "Slope:  2.0\n",
      "Intercept:  0.0\n"
     ]
    }
   ],
   "source": [
    "# Calculate the slope using the covariance and variance of x\n",
    "slope = np.cov(x, y, bias=True)[0][1] / np.var(x)\n",
    "\n",
    "# Calculate the mean of the x and y arrays\n",
    "x_mean = np.mean(x)\n",
    "y_mean = np.mean(y)\n",
    "\n",
    "# Calculate the intercept using the mean of x and y and the slope\n",
    "intercept = y_mean - slope * x_mean\n",
    "\n",
    "# Print the slope and intercept\n",
    "print(\"Slope: \", slope)\n",
    "print(\"Intercept: \", intercept)"
   ]
  },
  {
   "cell_type": "code",
   "execution_count": 9,
   "id": "83cbc103-7dc9-4220-9851-e74cbaffcd8f",
   "metadata": {},
   "outputs": [],
   "source": [
    "# Re-writting the above as two functions\n",
    "def slope_func(x,y):\n",
    "    slope = np.cov(x, y, bias=True)[0][1] / np.var(x)\n",
    "    print(\"Slope: \", slope)\n",
    "    \n",
    "def intercept_func(x,y):\n",
    "    x_mean = np.mean(x)\n",
    "    y_mean = np.mean(y)\n",
    "    intercept = y_mean - slope * x_mean\n",
    "    print(\"Intercept: \", intercept)   "
   ]
  },
  {
   "cell_type": "code",
   "execution_count": 10,
   "id": "e9a9e531-efbf-4159-b579-de95fb2c466c",
   "metadata": {},
   "outputs": [
    {
     "name": "stdout",
     "output_type": "stream",
     "text": [
      "Intercept:  0.0\n",
      "Slope:  2.0\n"
     ]
    }
   ],
   "source": [
    "intercept_func(x,y)\n",
    "slope_func(x,y)"
   ]
  },
  {
   "cell_type": "markdown",
   "id": "32de8ce9-0ba7-4172-971e-066750d2d20b",
   "metadata": {
    "tags": []
   },
   "source": [
    "## Point Slope"
   ]
  },
  {
   "cell_type": "markdown",
   "id": "d9906b8a-f7c7-427e-9372-08431c079187",
   "metadata": {},
   "source": [
    "The equation $m = (y2-y1)/(x2-x1)$ can be re-written in the following format."
   ]
  },
  {
   "cell_type": "markdown",
   "id": "b24171bb-da48-4fe1-9df8-fab99607bf85",
   "metadata": {},
   "source": [
    "$$\n",
    "y-y1 = m(x-x1)\n",
    "$$"
   ]
  },
  {
   "cell_type": "markdown",
   "id": "66e44a39-dd65-49d4-8b5c-19ad7a014ff4",
   "metadata": {},
   "source": [
    "This is the point slope equation where x1 and y1 are fixed points, and x and y can be any point along the graph. "
   ]
  },
  {
   "cell_type": "markdown",
   "id": "6667c140-52b4-49cc-b9bb-533fefc67a11",
   "metadata": {
    "tags": []
   },
   "source": [
    "### Example 1:"
   ]
  },
  {
   "cell_type": "markdown",
   "id": "33713977-e86d-463a-ba3e-0228cf9a1523",
   "metadata": {},
   "source": [
    "Find the slope $(-2,-3) (8 , 2)$"
   ]
  },
  {
   "cell_type": "code",
   "execution_count": 11,
   "id": "bc9d2afc-6cfc-40c7-a80d-05bbad8a7e3a",
   "metadata": {},
   "outputs": [],
   "source": [
    "x1 = np.array([-2,8])\n",
    "y1 = np.array([-3,2])"
   ]
  },
  {
   "cell_type": "code",
   "execution_count": 12,
   "id": "5ce81a78-95cd-4676-b324-321fd4970b23",
   "metadata": {},
   "outputs": [
    {
     "name": "stdout",
     "output_type": "stream",
     "text": [
      "Slope:  0.5\n"
     ]
    }
   ],
   "source": [
    "slope_func(x1,y1)"
   ]
  },
  {
   "cell_type": "markdown",
   "id": "0068e733-0130-450a-9d88-f500b1c57be1",
   "metadata": {},
   "source": [
    "$m = (2-(-3))/(8-(-2))$\n",
    "\n",
    "This can be expressed in a point slope equation:\n",
    "$$\n",
    "y+3 = 0.5(x+2)\n",
    "$$\n",
    "\n",
    "Further simplifying to isolate $y$\n",
    "$$\n",
    "y = 0.5x-2\n",
    "$$\n",
    "\n",
    "This is $y = mx+c$ the <strong>Slope Intercept</strong>\n",
    "\n",
    "m = Slope<br/>\n",
    "b = y-intercept"
   ]
  },
  {
   "cell_type": "code",
   "execution_count": 13,
   "id": "e61dd835-0c44-4d06-a340-33426cbb91d0",
   "metadata": {},
   "outputs": [
    {
     "data": {
      "image/png": "[encoded data removed]",
      "text/plain": [
       "<Figure size 640x480 with 1 Axes>"
      ]
     },
     "metadata": {},
     "output_type": "display_data"
    }
   ],
   "source": [
    "#creates a 100 evenly spaced samples of x values between -10 and 10,\n",
    "x1_ = np.linspace(-10, 10, 100)\n",
    "\n",
    "#calculates the corresponding y values using the equation y = 0.5 * x - 2\n",
    "y1_ = 0.5 * x1_ - 2\n",
    "\n",
    "plt.plot(x1_, y1_)\n",
    "plt.xlabel(\"x1_\")\n",
    "plt.ylabel(\"y1_\")\n",
    "plt.title(\"y = 0.5x - 2\")\n",
    "plt.grid()\n",
    "plt.show()"
   ]
  },
  {
   "cell_type": "markdown",
   "id": "8c3d64b8-d257-47f4-b64f-99a85757b2f6",
   "metadata": {},
   "source": [
    "### Example 2"
   ]
  },
  {
   "cell_type": "markdown",
   "id": "941de0f3-2725-4211-9d8d-47397d44df6e",
   "metadata": {},
   "source": [
    "Find the equation of a line that passes through (6,7) and parallel to $2x +3y =12$"
   ]
  },
  {
   "cell_type": "markdown",
   "id": "68b29487-3f61-465d-ac32-95af1786332d",
   "metadata": {},
   "source": [
    "Step 1: Find the slope"
   ]
  },
  {
   "cell_type": "code",
   "execution_count": 14,
   "id": "8ec148ae-058c-45f2-a098-a501c23466d9",
   "metadata": {},
   "outputs": [],
   "source": [
    "import sympy\n",
    "from sympy import *"
   ]
  },
  {
   "cell_type": "code",
   "execution_count": 15,
   "id": "627f11e4-8e97-4a63-82d5-8b7053dd4a45",
   "metadata": {},
   "outputs": [
    {
     "data": {
      "text/latex": [
       "$\\displaystyle 4 - \\frac{2 x}{3}$"
      ],
      "text/plain": [
       "4 - 2*x/3"
      ]
     },
     "execution_count": 15,
     "metadata": {},
     "output_type": "execute_result"
    }
   ],
   "source": [
    "#The symbols function is used to create symbols x and y which are variables in the equation\n",
    "x, y = symbols('x y')\n",
    "\n",
    "#The Eq function is used to create an equation object from the expression 2*x + 3*y = 12\n",
    "expr = Eq(2*x + 3*y, 12)\n",
    "\n",
    "#The solve function is then used to solve for y in terms of x by passing the equation object and the symbol y as arguments\n",
    "#The result is stored in the sol variable, which is a list of solutions. \n",
    "sol = solve(expr, y)\n",
    "\n",
    "#To display the simplified expression for y, we access the first element of the sol list using sol[0].\n",
    "sol[0]"
   ]
  },
  {
   "cell_type": "code",
   "execution_count": 16,
   "id": "0b90be74-d8d5-4ffb-a5fa-f77e90af17f5",
   "metadata": {},
   "outputs": [],
   "source": [
    "slope2 = -2/3\n",
    "\n",
    "# parallel slopes are the same"
   ]
  },
  {
   "cell_type": "markdown",
   "id": "20459518-fd1f-4084-af8a-32736ca6d06c",
   "metadata": {},
   "source": [
    "Step 2: \n",
    "\n",
    "Plug (6,7) into the point slope formula. "
   ]
  },
  {
   "cell_type": "markdown",
   "id": "bb64593c-2ff4-4926-ae47-31bc08ea9b60",
   "metadata": {},
   "source": [
    "$$\n",
    "y-y1 =m(x-x1)\n",
    "$$\n",
    "\n",
    "$$\n",
    "y-7=-2/3(x-6)\n",
    "$$\n",
    "\n",
    "Simplify further\n",
    "$$\n",
    "y = -2/3x+11\n",
    "$$"
   ]
  },
  {
   "cell_type": "markdown",
   "id": "5271ee89-19a7-4221-aa8d-3299951658ea",
   "metadata": {},
   "source": [
    "What about for a perpendicular slope?\n",
    "\n",
    "$m = 3/2$\n",
    "\n",
    "$$\n",
    "y = 3/2x-2\n",
    "$$"
   ]
  },
  {
   "cell_type": "markdown",
   "id": "016a0e69-5996-432d-8665-991bc836bf9c",
   "metadata": {},
   "source": [
    "# Angle of Inclination"
   ]
  },
  {
   "cell_type": "markdown",
   "id": "de4cb53b-bdc7-4f99-bd9f-2a46ad6f851e",
   "metadata": {},
   "source": [
    "The AoI is the angle to the x-axis"
   ]
  },
  {
   "cell_type": "code",
   "execution_count": 17,
   "id": "362c7269-4a2b-429f-9846-0ddd9fbf9d4f",
   "metadata": {},
   "outputs": [
    {
     "data": {
      "image/png": "[encoded data removed]",
      "text/plain": [
       "<Figure size 640x480 with 1 Axes>"
      ]
     },
     "metadata": {},
     "output_type": "display_data"
    }
   ],
   "source": [
    "theta = 30 # angle of inclination\n",
    "\n",
    "#theta is the angle of inclination, which is set to 30 degrees in this example. The line is drawn using the equation y = tan(theta) * x \n",
    "#where tan(theta) is calculated using the np.deg2rad() function to convert the angle from degrees to radians.\n",
    "\n",
    "x2 = np.linspace(-2, 2, 100)\n",
    "y2 = np.tan(np.deg2rad(theta)) * x2\n",
    "\n",
    "plt.plot(x2, y2)\n",
    "\n",
    "#The plt.hlines() function is used to draw a horizontal line at x=0. The linestyle parameter is set to '--' to create a dashed line.\n",
    "plt.hlines(0, -2, 2, linestyle='--', label='x=0')\n",
    "\n",
    "#The plot title uses a LaTeX string to display the angle symbol (theta) and the degree symbol. \n",
    "#The r'$' and r'$^\\circ$' in the title string are used to specify LaTeX formatting.\n",
    "plt.title(r'Line with inclination angle $\\theta = $' + str(theta) + r'$^\\circ$')\n",
    "\n",
    "plt.xlabel('X')\n",
    "plt.ylabel('Y')\n",
    "\n",
    "#plt.annotate(r'$\\theta$', xy=(1.5, np.tan(np.deg2rad(theta))*1.5), xytext=(2.5, 2),\n",
    "             #arrowprops=dict(facecolor='black', shrink=0.05))\n",
    "plt.annotate(r'$\\theta$', xy=(0, 0), xytext=(0.2, np.tan(np.deg2rad(theta))*0.05))\n",
    "\n",
    "plt.show()"
   ]
  },
  {
   "cell_type": "markdown",
   "id": "1d1b9c97-a519-432b-8ffc-64826e4511b0",
   "metadata": {},
   "source": [
    "The angle theta can be given by:\n",
    "\n",
    "$$\n",
    "tan\\theta = \\frac{{\\Delta}y}{{\\Delta}x}\n",
    "$$\n",
    "\n",
    "This is also the slope $m$\n",
    "\n",
    "Therefore, \n",
    "$$\n",
    "m = tan\\theta\n",
    "$$"
   ]
  },
  {
   "cell_type": "markdown",
   "id": "b2b434f7-bc6e-4276-8dbe-3b4216f8be2f",
   "metadata": {},
   "source": [
    "### Example 1"
   ]
  },
  {
   "cell_type": "markdown",
   "id": "f7f1b43e-5708-4af6-b33c-e6afa381d29c",
   "metadata": {},
   "source": [
    "$\\theta$ = 30deg\n",
    "\n",
    "Find the slope of the line that has the angle of inclination of 30deg. "
   ]
  },
  {
   "cell_type": "markdown",
   "id": "a28730ed-0ba1-4173-b41b-b1d426286f25",
   "metadata": {},
   "source": [
    "Recall that $m = tan \\theta$\n",
    "\n",
    "therefore, \n",
    "$$\n",
    "m = tan\\theta\n",
    "$$\n",
    "$$\n",
    "m = tan30\n",
    "$$"
   ]
  },
  {
   "cell_type": "code",
   "execution_count": 28,
   "id": "ed56a32e-5907-444d-9e70-e679466df4e7",
   "metadata": {},
   "outputs": [],
   "source": [
    "import fractions\n",
    "\n",
    "def tangent(angle):\n",
    "    #the input angle is first converted from degrees to radians using the math.radians function. \n",
    "    #This is because the math.tan function takes its argument in radians\n",
    "    angle_rad = math.radians(angle)\n",
    "    #The tangent of the angle is then calculated using the math.tan function and returned as the result.\n",
    "    tan_val = math.tan(angle_rad)\n",
    "    fraction_val = fractions.Fraction(tan_val).limit_denominator()\n",
    "    #return tan_val\n",
    "    print(fraction_val)\n",
    "    print(tan_val)\n",
    "    "
   ]
  },
  {
   "cell_type": "code",
   "execution_count": 29,
   "id": "ed3065ec-6688-4f3f-bf27-27e57042057e",
   "metadata": {},
   "outputs": [
    {
     "name": "stdout",
     "output_type": "stream",
     "text": [
      "564719/978122\n",
      "0.5773502691896257\n"
     ]
    }
   ],
   "source": [
    "tangent(30)"
   ]
  },
  {
   "cell_type": "markdown",
   "id": "dd23096a-a89d-4189-8f40-44ff5d048795",
   "metadata": {},
   "source": [
    "# Distance Formula"
   ]
  },
  {
   "cell_type": "markdown",
   "id": "d2f5b2d3-8886-46b7-bf18-0c3323057ce7",
   "metadata": {},
   "source": [
    "$$\n",
    "d = \\sqrt{(x_2 - x_1)^2 + (y_2 - y_1)^2}\n",
    "$$\n",
    "\n",
    "Basically the Pythagoras theorom where $d$ is the hypotenuse of the line between two points."
   ]
  },
  {
   "cell_type": "code",
   "execution_count": 46,
   "id": "6475ffa4-b042-464d-837c-a85222c3e251",
   "metadata": {},
   "outputs": [],
   "source": [
    "#the distance_formula function calculates the distance between two points (x1, y1) and (x2, y2) using the distance formula.\n",
    "def distance_formula(x1, y1, x2, y2):\n",
    "    return math.sqrt((x2 - x1)**2 + (y2 - y1)**2)\n",
    "\n",
    "#The plot_distance function creates a 2D graph and plots the contour lines of the distance formula, as well as the two points.\n",
    "def plot_distance(x1, y1, x2, y2):\n",
    "    x = np.linspace(-10, 10, 100)\n",
    "    y = np.linspace(-10, 10, 100)\n",
    "    X, Y = np.meshgrid(x, y)\n",
    "    Z = np.sqrt((X - x1)**2 + (Y - y1)**2)\n",
    "\n",
    "    fig, ax = plt.subplots()\n",
    "    #The contour method from the matplotlib library is used to plot the contour lines of the distance formula. \n",
    "    #ax.contour(X, Y, Z, [distance_formula(x1, y1, x2, y2)])\n",
    "    #The plot method is used to plot the two points\n",
    "    ax.plot(x1, y1, 'ro', label='(x1,y1)')\n",
    "    ax.plot(x2, y2, 'bo', label='(x2,y2)')\n",
    "    ax.plot([x1, x2], [y1, y2], 'g-', label='d')\n",
    "    \n",
    "    #The annotate method is used to add labels to each point, with the label text being the coordinates of each point. \n",
    "    #The textcoords argument is used to specify the coordinate system for the label text, and the xytext argument is used to specify the offset for the label text. \n",
    "    #The ha argument is used to specify the horizontal alignment of the label text. Finally, the fontsize and color arguments are used to set the font size and color of the label text.\n",
    "    ax.annotate(f'({x1}, {y1})', (x1, y1), textcoords=\"offset points\", xytext=(-15,-10), ha='center', fontsize=8, color='red')\n",
    "    ax.annotate(f'({x2}, {y2})', (x2, y2), textcoords=\"offset points\", xytext=(-15,-10), ha='center', fontsize=8, color='blue')\n",
    "    \n",
    "    #two additional calls to the plot method are made to plot the x and y vector lines. \n",
    "    #The linestyle argument is set to '--' to specify that the lines should be plotted as broken lines.\n",
    "    ax.plot([x2, x2], [y1, y2], 'r--', label='y2 - y1')\n",
    "    ax.plot([x1, x2], [y1, y1], 'b--', label='x2 - x1')\n",
    "    ax.legend()\n",
    "    #the show method is used to display the graph.\n",
    "    plt.show()"
   ]
  },
  {
   "cell_type": "code",
   "execution_count": 47,
   "id": "1e876765-c701-40aa-894c-08d2482201e1",
   "metadata": {},
   "outputs": [
    {
     "data": {
      "image/png": "[encoded data removed]",
      "text/plain": [
       "<Figure size 640x480 with 1 Axes>"
      ]
     },
     "metadata": {},
     "output_type": "display_data"
    }
   ],
   "source": [
    "plot_distance(1, 2, 4, 6)"
   ]
  }
 ],
 "metadata": {
  "kernelspec": {
   "display_name": "Python 3 (ipykernel)",
   "language": "python",
   "name": "python3"
  },
  "language_info": {
   "codemirror_mode": {
    "name": "ipython",
    "version": 3
   },
   "file_extension": ".py",
   "mimetype": "text/x-python",
   "name": "python",
   "nbconvert_exporter": "python",
   "pygments_lexer": "ipython3",
   "version": "3.10.10"
  }
 },
 "nbformat": 4,
 "nbformat_minor": 5
}
